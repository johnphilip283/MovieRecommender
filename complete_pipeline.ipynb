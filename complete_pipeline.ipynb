{
 "cells": [
  {
   "cell_type": "markdown",
   "metadata": {},
   "source": [
    "# Movie Recommendation using the Wikipedia Movie Plot Summary Dataset\n",
    "\n",
    "John Philip<br>\n",
    "Prof. Kathleen Durant<br>\n",
    "DS4100: Data Collection, Integration and Analysis<br>\n",
    "7 December 2018"
   ]
  },
  {
   "cell_type": "markdown",
   "metadata": {},
   "source": [
    "## Part 1: Augmenting The Wikipedia Plot Summary Dataset (Collecting Data)\n",
    "\n",
    "We start off the data collection and cleaning pipeline with two datasets from Wikipedia. In order to wrangle this data, I decided to use Python, more specificially, the CSV and Pandas modules."
   ]
  },
  {
   "cell_type": "code",
   "execution_count": 1,
   "metadata": {},
   "outputs": [],
   "source": [
    "import pandas as pd\n",
    "import csv\n",
    "import os\n",
    "import datetime\n",
    "import requests\n",
    "import sqlite3\n",
    "import numpy as np\n",
    "import statistics\n",
    "from scipy import spatial\n",
    "from time import sleep\n",
    "from sklearn.cluster import MeanShift\n",
    "import matplotlib.pyplot as plt\n",
    "%matplotlib inline"
   ]
  },
  {
   "cell_type": "markdown",
   "metadata": {},
   "source": [
    "Since a lot of the data was missing from the Wikipedia dataset, I decided to augment this dataset with more data from the OMDB API."
   ]
  },
  {
   "cell_type": "code",
   "execution_count": 2,
   "metadata": {},
   "outputs": [],
   "source": [
    "API_URL = \"http://www.omdbapi.com\"\n",
    "API_KEY = \"d8a2854c\""
   ]
  },
  {
   "cell_type": "markdown",
   "metadata": {},
   "source": [
    "This simple utility function makes the request to the OMDB API and returns the data in JSON format. "
   ]
  },
  {
   "cell_type": "code",
   "execution_count": 3,
   "metadata": {},
   "outputs": [],
   "source": [
    "def ping_api(movie_name, year=None, api_key=API_KEY):\n",
    "\n",
    "    request_params = {'apikey': api_key, 'type': 'movie', 't': movie_name, 'plot': 'full'}\n",
    "\n",
    "    # If the year is provided, use it to narrow down the approach.\n",
    "    if year:\n",
    "        request_params['y'] = year\n",
    "\n",
    "    r = requests.get(API_URL, params=request_params)\n",
    "\n",
    "    return r.json()"
   ]
  },
  {
   "cell_type": "markdown",
   "metadata": {},
   "source": [
    "I read in the dataframes and concatenate them into one big dataframe, so that we can iterate over it using the CSV module."
   ]
  },
  {
   "cell_type": "code",
   "execution_count": 4,
   "metadata": {},
   "outputs": [],
   "source": [
    "# Concatenate the dataframes into one big dataset.\n",
    "df = pd.concat([pd.read_csv(\"datasets/wiki_dataset_1.csv\", index_col=0),\n",
    "                pd.read_csv(\"datasets/wiki_dataset_2.csv\", index_col=0)], ignore_index=True)\n",
    "\n",
    "# Create a CSV that I can use to read the data.\n",
    "df.to_csv(\"intermediate.csv\")\n",
    "\n",
    "imputation_targets = (\"Unknown\", \"N/A\", \"unknown\", \"\")"
   ]
  },
  {
   "cell_type": "markdown",
   "metadata": {},
   "source": [
    "## Imputation Pipeline (Collecting Data)\n",
    "\n",
    "1. Open the concatenated dataframe, as well as the final CSV we will need to write to.\n",
    "2. Add the columns for the supplementary data.\n",
    "3. Query the API with the title of the movie found in each row, and if possible, the year it was produced.\n",
    "4. If the movie wasn't found on the database, continue with the next row.\n",
    "5. If we've reached the request limit on this API key, then sleep for 24 hours and continue the cycle.\n",
    "6. At this point, we have a valid JSON response from the API, so impute the fields with whatever it returns, and add the additional data to the appropriate columns.\n",
    "7. If there are any issues with any particular row, then continue with the next row. "
   ]
  },
  {
   "cell_type": "code",
   "execution_count": null,
   "metadata": {},
   "outputs": [],
   "source": [
    "# Imputes missing data from the wikipedia plot summary dataset with OMDB-scraped data, and supplements it with\n",
    "# extra data.\n",
    "# Just in case this gets run again, write all of this to final_copy.csv.\n",
    "with open(\"intermediate.csv\") as read_file, open(\"final_copy.csv\", 'a') as write_file:\n",
    "\n",
    "    reader = csv.DictReader(read_file)\n",
    "\n",
    "    supplementary_data = [\"Runtime\", \"imdbRating\", \"imdbVotes\", \"Rated\", \"Rotten Tomatoes\", \"Metacritic\"]\n",
    "\n",
    "    writer = csv.DictWriter(write_file, fieldnames=df.columns.tolist() + supplementary_data)\n",
    "    writer.writeheader()\n",
    "    movie_json = {}\n",
    "\n",
    "    for row in reader:\n",
    "\n",
    "        row = dict(row)\n",
    "\n",
    "        try:\n",
    "            # Ping the API\n",
    "            movie_json = ping_api(row[\"Title\"],\n",
    "                                  year=row[\"Release Year\"] if row[\"Release Year\"] not in imputation_targets else None,\n",
    "                                  api_key=API_KEY)\n",
    "\n",
    "            # If the movie doesn't exist in the OMDB database, then skip this row, since we can't add any extra data\n",
    "            # to it.\n",
    "            if movie_json[\"Response\"] == \"False\":\n",
    "                \n",
    "                # Repeat the queries\n",
    "                if movie_json[\"Error\"] == \"Request limit reached!\":\n",
    "                    print(\"Timed out: JSON response is: {}\".format(movie_json))\n",
    "                    \n",
    "                    # There's a 1 day timeout limit, so repeat this part of the pipeline tomorrow\n",
    "                    sleep(3600 * 24)\n",
    "\n",
    "                elif movie_json[\"Error\"] == \"Movie not found!\":\n",
    "                    print(\"Not found: JSON response is: {}\".format(movie_json))\n",
    "\n",
    "                print(\"Empty API response for {}. \".format(row[\"Title\"]))\n",
    "\n",
    "                continue\n",
    "\n",
    "            print(\"{}:\\t\\tImputing data for {}.\".format(str(datetime.datetime.now()), row[\"Title\"]))\n",
    "\n",
    "            # If any of these fields are imputable, impute them.\n",
    "            if row[\"Director\"] in imputation_targets:\n",
    "                row[\"Director\"] = movie_json[\"Director\"] if movie_json[\"Director\"] != \"N/A\" else \"\"\n",
    "\n",
    "            if row[\"Release Year\"] in imputation_targets:\n",
    "                row[\"Release Year\"] = movie_json[\"Year\"]\n",
    "\n",
    "            if row[\"Genre\"] in imputation_targets:\n",
    "                row[\"Genre\"] = movie_json[\"Genre\"]\n",
    "\n",
    "            if row[\"Cast\"] in imputation_targets:\n",
    "                row[\"Cast\"] = movie_json[\"Actors\"] if movie_json[\"Actors\"] != \"N/A\" else \"\"\n",
    "\n",
    "            if row[\"Plot\"] in imputation_targets:\n",
    "                row[\"Plot\"] = movie_json[\"Plot\"]\n",
    "\n",
    "            # Supplement with additional data\n",
    "            row[\"imdbRating\"] = movie_json[\"imdbRating\"] if movie_json[\"imdbRating\"] != \"N/A\" else \"\"\n",
    "            row[\"imdbVotes\"] = movie_json[\"imdbVotes\"] if movie_json[\"imdbVotes\"] != \"N/A\" else \"\"\n",
    "            row[\"Rated\"] = movie_json[\"Rated\"] if movie_json[\"Rated\"] not in (\"N/A\", \"NOT RATED\", \"PASSED\", \"UNRATED\", \"APPROVED\") else \"\"\n",
    "\n",
    "            # Go through the ratings list, and add the appropriate fields.\n",
    "            if \"Ratings\" in movie_json:\n",
    "                for rating in movie_json[\"Ratings\"]:\n",
    "                    row[rating[\"Source\"]] = rating[\"Value\"] if rating[\"Source\"] in supplementary_data else \"\"\n",
    "\n",
    "            writer.writerow({key: val for key, val in row.items() if key != \"\"})\n",
    "\n",
    "        except KeyError as e:\n",
    "            \n",
    "            print(\"Movie JSON: {}\".format(movie_json))\n",
    "            print(\"Row: {}\".format(row) + \"\\n\")\n",
    "            print(\"{}:\\t\\tRan into a key error for row {}.\".format(str(datetime.datetime.now()), row[\"Title\"]))\n",
    "\n",
    "        except (KeyboardInterrupt, Exception) as e:\n",
    "            \n",
    "            # Write the files we have so far just in case something comes up during the execution of this portion.\n",
    "            print(\"Writing files ...\")\n",
    "            break"
   ]
  },
  {
   "cell_type": "markdown",
   "metadata": {},
   "source": [
    "After imputing the missing data, and augmenting the dataset with the Rotten Tomatoes and Metacritic data, write it out to a CSV file, and split it back up. I split up the data because my computer doesn't allow me to open incredibly large files, so I look at each one separately."
   ]
  },
  {
   "cell_type": "code",
   "execution_count": 5,
   "metadata": {},
   "outputs": [],
   "source": [
    "df = pd.read_csv(\"final.csv\", index_col=0)\n",
    "\n",
    "# Write out the new dataframe to two CSVs.\n",
    "df[:int(len(df) / 2)].to_csv(\"souped_up_movie_dataset_1.csv\")\n",
    "\n",
    "df[int(len(df) / 2):].to_csv(\"souped_up_movie_dataset_2.csv\")\n",
    "\n",
    "if os.path.isfile(\"intermediate.csv\"):\n",
    "    os.remove(\"intermediate.csv\")"
   ]
  },
  {
   "cell_type": "markdown",
   "metadata": {},
   "source": [
    "## Database Population (Data Shaping)\n",
    "\n",
    "Here, we are going to take the augmented dataset that we created in the previous section of this notebook, and store it in a relational database. We put the database in 3rd normal form, in order to reduce redundancy, and enhance data integrity. We use the sqlite3 Python package, which allows for lightweight and in-memory relational database creation, which is the most natural form for this database to take."
   ]
  },
  {
   "cell_type": "markdown",
   "metadata": {},
   "source": [
    "Since we are in the process of writing the database, we can create a virtual connection to an in-memory database, and then dump out the contents of the database to a file later."
   ]
  },
  {
   "cell_type": "code",
   "execution_count": 6,
   "metadata": {},
   "outputs": [],
   "source": [
    "# Connect to the database\n",
    "conn = sqlite3.connect(':memory:')"
   ]
  },
  {
   "cell_type": "markdown",
   "metadata": {},
   "source": [
    "The following cells will just be some utility functions that allow us to more easily add rows into our database later."
   ]
  },
  {
   "cell_type": "code",
   "execution_count": 7,
   "metadata": {},
   "outputs": [],
   "source": [
    "def query_for_join_table(type, movie_id, val_id):\n",
    "    \n",
    "    # Returns the appropriately formatted query for populating the join tables between movies and other tables.\n",
    "    return \"\"\"\n",
    "           insert into movie_has_{0} (movie_id, {0}_id) values ({1}, {2})\n",
    "           \"\"\".format(type, movie_id, val_id)"
   ]
  },
  {
   "cell_type": "code",
   "execution_count": 8,
   "metadata": {},
   "outputs": [],
   "source": [
    "def query(query_string, conn=conn):\n",
    "    \n",
    "    # Returns the results of a particular SQL query.\n",
    "    cur = conn.cursor()\n",
    "    cur.execute(query_string)\n",
    "\n",
    "    return cur.fetchall()"
   ]
  },
  {
   "cell_type": "code",
   "execution_count": 9,
   "metadata": {},
   "outputs": [],
   "source": [
    "def id_from_name(name, table):\n",
    "    \n",
    "    # Return the id associated with a particular name from a particular table.\n",
    "    return query('select {0}_id from {0} where name=\"{1}\"'.format(table, name.strip().title()))"
   ]
  },
  {
   "cell_type": "code",
   "execution_count": 10,
   "metadata": {},
   "outputs": [],
   "source": [
    "def add_name_to_table(name, table):\n",
    "    \n",
    "    # Insert the given name into the given table, and for convenience, return the id associated with the newly created name.\n",
    "    query('insert into {0} (name) values (\"{1}\")'.format(table, name.strip().title()))\n",
    "\n",
    "    return id_from_name(name, table)"
   ]
  },
  {
   "cell_type": "code",
   "execution_count": 11,
   "metadata": {},
   "outputs": [],
   "source": [
    "def get_id(val, table):\n",
    "    \n",
    "    # If the value isn't in the table, add it, and then return the ID associated with it.\n",
    "    val = val.lower().title()\n",
    "    \n",
    "    ids = id_from_name(val, table)\n",
    "\n",
    "    if len(ids) == 0:\n",
    "\n",
    "        # Val doesn't exist yet, so insert them, then get back their id\n",
    "        ids = add_name_to_table(val, table)\n",
    "\n",
    "    # We should now be guaranteed to have one entry in ids\n",
    "    assert len(ids) == 1\n",
    "\n",
    "    return int(ids[0][0])"
   ]
  },
  {
   "cell_type": "markdown",
   "metadata": {},
   "source": [
    "In order to set up the database, we declare the schema of the database in the movie.sql file. Running that script populates the database with the appropriate tables that we can then insert into as we iterate through the dataset."
   ]
  },
  {
   "cell_type": "code",
   "execution_count": 12,
   "metadata": {},
   "outputs": [
    {
     "data": {
      "text/plain": [
       "<sqlite3.Cursor at 0x1a199a98f0>"
      ]
     },
     "execution_count": 12,
     "metadata": {},
     "output_type": "execute_result"
    }
   ],
   "source": [
    "# Setting up the main database, loading in the table schema\n",
    "with open(\"movie.sql\") as f:\n",
    "    script = f.read()\n",
    "\n",
    "cur = conn.cursor()\n",
    "cur.executescript(script)"
   ]
  },
  {
   "cell_type": "markdown",
   "metadata": {},
   "source": [
    "Running the cell below will allow you to see the movie.sql file contents, which contain our entire database schema."
   ]
  },
  {
   "cell_type": "code",
   "execution_count": 13,
   "metadata": {},
   "outputs": [],
   "source": [
    "%pycat movie.sql"
   ]
  },
  {
   "cell_type": "markdown",
   "metadata": {},
   "source": [
    "## Insertion Process (Data Shaping)\n",
    "1. First, read the CSV into a pandas dataframe.\n",
    "2. Second, replace all of the NaNs with empty strings.\n",
    "3. Since the index of each row is unique, we can use that to represent each movie_id in the database.\n",
    "4. Strip all of the appropriate fields of whitespace, canonicalize them by titling them, and then format the query appropriately.\n",
    "5. For each of the fields that can have multiple values per row, independently insert each of the values into the correct table and its corresponding join table.\n",
    "6. Since each of the ratings (metacritic, rotten tomatoes, and IMDB) are on different scales, normalize them before we enter them into the database."
   ]
  },
  {
   "cell_type": "code",
   "execution_count": null,
   "metadata": {},
   "outputs": [],
   "source": [
    "# Start reading through the big CSV\n",
    "df = pd.read_csv(\"final.csv\")\n",
    "\n",
    "for index, row in df.iterrows():\n",
    "\n",
    "    row = {key: (str(val).replace('\"', '') if str(val) != \"nan\" else \"\") for key, val in dict(row).items()}\n",
    "\n",
    "    movie_id = index + 1\n",
    "\n",
    "    try:\n",
    "        \n",
    "        # Attempt to insert a movie into the database, and canonicalize and normalize the fields.\n",
    "        INSERT_MOVIE_QUERY = 'insert into movie (movie_id, origin, year, title, wiki_link, plot, imdb_rating, imdb_votes, rated, rotten_tomato_rating, metacritic_rating) values ({}, {}, {}, {}, {}, {}, {}, {}, {}, {}, {})'.format(movie_id,\n",
    "                                       '\"{}\"'.format(row[\"Origin/Ethnicity\"].strip().title()) if row[\"Origin/Ethnicity\"] else \"NULL\",\n",
    "                                       int(row[\"Release Year\"]) if row[\"Release Year\"] else \"NULL\",\n",
    "                                       '\"{}\"'.format(row[\"Title\"].strip().title()) if row[\"Title\"] else \"NULL\",\n",
    "                                       '\"{}\"'.format(row[\"Wiki Page\"]) if row[\"Wiki Page\"] else \"NULL\",\n",
    "                                       '\"{}\"'.format(row[\"Plot\"].strip().capitalize()) if row[\"Plot\"] else \"NULL\",\n",
    "                                       float(row[\"imdbRating\"]) / 10 if row[\"imdbRating\"] else \"NULL\",\n",
    "                                       row[\"imdbVotes\"].replace(\",\", \"\") if row[\"imdbVotes\"] else \"NULL\",\n",
    "                                       '\"{}\"'.format(row[\"Rated\"].strip()) if row[\"Rated\"] else \"NULL\",\n",
    "                                       int(row[\"Rotten Tomatoes\"]) / 100 if row[\"Rotten Tomatoes\"] else \"NULL\",\n",
    "                                       int(row[\"Metacritic\"]) / 100 if row[\"Metacritic\"] else \"NULL\")\n",
    "    except ValueError as e:\n",
    "\n",
    "        # There is a strange row in the dataset that just has the header names repeated again. If we run into this,\n",
    "        # then move onto the next row. If that isn't the problem, then raise the exception again.\n",
    "        if row[\"Release Year\"] == \"Release Year\":\n",
    "            continue\n",
    "        else:\n",
    "            raise e\n",
    "\n",
    "    query(INSERT_MOVIE_QUERY)\n",
    "    \n",
    "    for label, table in [(\"Director\", \"director\"), (\"Cast\", \"actor\"), (\"Genre\", \"genre\")]:\n",
    "        \n",
    "        # If there are values for this label,\n",
    "        if row[label]:\n",
    "            \n",
    "            # Get a list of all of these values\n",
    "            val_list = row[label].strip().split(',')\n",
    "            for val in val_list:\n",
    "                \n",
    "                # If each value in the list is not \"\",\n",
    "                if val:\n",
    "                    \n",
    "                    # Add it to the appropriate table.\n",
    "                    query(query_for_join_table(table, movie_id, get_id(val, table)))"
   ]
  },
  {
   "cell_type": "markdown",
   "metadata": {},
   "source": [
    "Our database now holds all of the relevant data from the CSVs, so we can dump it out to a SQL file that we can later reload into memory."
   ]
  },
  {
   "cell_type": "code",
   "execution_count": 14,
   "metadata": {},
   "outputs": [],
   "source": [
    "# Just in case this gets run again, write it to copy of dump.sql\n",
    "with open('dump_copy.sql', 'w') as f:\n",
    "    \n",
    "    # Go through each definition and write it to a file.\n",
    "    for line in conn.iterdump():\n",
    "        f.write('%s\\n' % line)"
   ]
  },
  {
   "cell_type": "markdown",
   "metadata": {},
   "source": [
    "## Data Retrieval (Exploring Data Through Visualization)\n",
    "\n",
    "In this portion of the pipeline, we're going to selectively retrieve a portion of the data that is clean, and can be used to make significant recommendations to users."
   ]
  },
  {
   "cell_type": "markdown",
   "metadata": {},
   "source": [
    "First, we're going to load in the database that we populated in the previous section of the notebook, which contains the dataset in fully normalized form. "
   ]
  },
  {
   "cell_type": "code",
   "execution_count": 15,
   "metadata": {},
   "outputs": [
    {
     "data": {
      "text/plain": [
       "<sqlite3.Cursor at 0x1a199a9ab0>"
      ]
     },
     "execution_count": 15,
     "metadata": {},
     "output_type": "execute_result"
    }
   ],
   "source": [
    "conn = sqlite3.connect(\":memory:\")\n",
    "\n",
    "with open(\"dump.sql\") as f:\n",
    "    script = f.read()\n",
    "\n",
    "# Execute the database creation script.\n",
    "cur = conn.cursor()\n",
    "cur.executescript(script)"
   ]
  },
  {
   "cell_type": "code",
   "execution_count": 16,
   "metadata": {},
   "outputs": [],
   "source": [
    "def query(query_string, conn=conn):\n",
    "\n",
    "    cur = conn.cursor()\n",
    "    cur.execute(query_string)\n",
    "    \n",
    "    res = cur.fetchall()\n",
    "    \n",
    "    # Cleanly format the responses\n",
    "    if len(res) > 0:\n",
    "        \n",
    "        if len(res[0]) == 1:\n",
    "            return [x[0] for x in res]\n",
    "        else:\n",
    "            return [list(x) for x in res]\n",
    "        \n",
    "    return []"
   ]
  },
  {
   "cell_type": "markdown",
   "metadata": {},
   "source": [
    "Just to get a better idea of what data we're working with, we're going to do some exploratory analysis to gain some insights about our dataset."
   ]
  },
  {
   "cell_type": "code",
   "execution_count": 17,
   "metadata": {},
   "outputs": [
    {
     "name": "stdout",
     "output_type": "stream",
     "text": [
      "0.36611326817512385\n"
     ]
    },
    {
     "data": {
      "image/png": "[encoded data removed]",
      "text/plain": [
       "<Figure size 432x288 with 1 Axes>"
      ]
     },
     "metadata": {
      "needs_background": "light"
     },
     "output_type": "display_data"
    }
   ],
   "source": [
    "years = query(\"SELECT year FROM movie\")\n",
    "\n",
    "plt.hist(years, bins=25)\n",
    "perc_after_1977 = len([year for year in years if year >= 2000]) / len(years)\n",
    "print(perc_after_1977)"
   ]
  },
  {
   "cell_type": "markdown",
   "metadata": {},
   "source": [
    "From this histogram, we can see that the majority of the data falls within the last ~40 years, with 36.6% of movies before produced after 2000. The jump in the 1920s was actually as a result of the release of the first sound film created, The Jazz Singer, and the very inspiring effect it had on the movie industry. As movie techniques got more advanced, different genres of film gained more popularity, and expanded the movie space. These are good things to keep in "
   ]
  },
  {
   "cell_type": "code",
   "execution_count": 18,
   "metadata": {},
   "outputs": [],
   "source": [
    "# Counts up all of the non-null ratings of a particular type for movies and displays their counts year by year\n",
    "def visualize_ratings(rating):\n",
    "    \n",
    "    year_ratings = [list(x) for x in query(\"SELECT year, {} FROM movie\".format(rating))]\n",
    "    ratings = {}\n",
    "\n",
    "    for x in year_ratings:\n",
    "\n",
    "        if x[1] is not None:\n",
    "            if x[0] not in ratings:\n",
    "                ratings[x[0]] = 1\n",
    "            else:\n",
    "                ratings[x[0]] += 1\n",
    "\n",
    "    ratings = [[x, ratings[x]] for x in sorted(ratings.keys())]\n",
    "    years = [x[0] for x in ratings]\n",
    "    ratings = [x[1] for x in ratings]\n",
    "    plt.scatter(years, ratings)\n",
    "    plt.show()"
   ]
  },
  {
   "cell_type": "code",
   "execution_count": 19,
   "metadata": {},
   "outputs": [
    {
     "data": {
      "image/png": "[encoded data removed]",
      "text/plain": [
       "<Figure size 432x288 with 1 Axes>"
      ]
     },
     "metadata": {
      "needs_background": "light"
     },
     "output_type": "display_data"
    }
   ],
   "source": [
    "visualize_ratings(\"imdb_rating\")"
   ]
  },
  {
   "cell_type": "markdown",
   "metadata": {},
   "source": [
    "From this snippet, we can see that the amount of movies that actually have IMDB ratings is relatively low, and in order to make intelligent judgements about recommendations, we want to include movies that have relatively solid IMDB ratings. Let's see if the same trend exists for the metacritic and rotten tomatoes data."
   ]
  },
  {
   "cell_type": "code",
   "execution_count": 20,
   "metadata": {},
   "outputs": [
    {
     "data": {
      "image/png": "[encoded data removed]",
      "text/plain": [
       "<Figure size 432x288 with 1 Axes>"
      ]
     },
     "metadata": {
      "needs_background": "light"
     },
     "output_type": "display_data"
    }
   ],
   "source": [
    "visualize_ratings(\"rotten_tomato_rating\")"
   ]
  },
  {
   "cell_type": "code",
   "execution_count": 21,
   "metadata": {},
   "outputs": [
    {
     "data": {
      "image/png": "[encoded data removed]",
      "text/plain": [
       "<Figure size 432x288 with 1 Axes>"
      ]
     },
     "metadata": {
      "needs_background": "light"
     },
     "output_type": "display_data"
    }
   ],
   "source": [
    "visualize_ratings(\"metacritic_rating\")"
   ]
  },
  {
   "cell_type": "markdown",
   "metadata": {},
   "source": [
    "## Findings (Mining Data For Insights)\n",
    "\n",
    "The same trends in ratings do seem to exist among the different sources of ratings. This supports the decision to probably limit the scope of movies we recommend to those released post, say, 2000. Given that there is minimal training data for movies before this period in terms of ratings, our model would be extrapolating from a region with little to no data, which does not yield very reliable results."
   ]
  },
  {
   "cell_type": "markdown",
   "metadata": {},
   "source": [
    "## Creating / Cleaning Dataset (Mining Data For Insights)"
   ]
  },
  {
   "cell_type": "markdown",
   "metadata": {},
   "source": [
    "There exist a lot of composite genres in the tables that we created out of the original dataset, ex) Comedic Romance, or Action Horror. Instead of creating dummy codes for each one of these categorical genres, we can create joint dummy codes that more accurately represent the overall genre of a movie. This will give us a more general vector that will allow our recommendation system to generalize more effectively.\n",
    "\n",
    "For example: \n",
    "\n",
    "###### Romantic Comedy\n",
    "\n",
    "| Romance  | Comedy  | Action  |  Sci-Fi |\n",
    "|---|---|---|---|\n",
    "|  1 | 1  |  0 | 0  |\n",
    "\n",
    "\n",
    "###### Action Romance\n",
    "\n",
    "| Romance  | Comedy  | Action  |  Sci-Fi |\n",
    "|---|---|---|---|\n",
    "|  1 | 0  |  1 | 0  |\n",
    "   \n",
    "   \n",
    "First, we should determine which of the broadest categories we should cater to in order to not pigeonhole our recommendations to rather esoteric genres."
   ]
  },
  {
   "cell_type": "code",
   "execution_count": 22,
   "metadata": {},
   "outputs": [],
   "source": [
    "# Get all genre names from movies released from 2000 onward.\n",
    "names = query(\"\"\"\n",
    "            SELECT genre.name\n",
    "            FROM movie\n",
    "            JOIN movie_has_genre ON (movie_has_genre.movie_id = movie.movie_id)\n",
    "            JOIN genre ON (movie_has_genre.genre_id = genre.genre_id)\n",
    "            WHERE year >= 2000\n",
    "            GROUP BY genre.name\n",
    "            \"\"\")"
   ]
  },
  {
   "cell_type": "markdown",
   "metadata": {},
   "source": [
    "We need to be able to expand the genre lists that these genres come in. We split up by common delimiters, and add them to a big list in order to analyze their frequency."
   ]
  },
  {
   "cell_type": "code",
   "execution_count": 23,
   "metadata": {},
   "outputs": [],
   "source": [
    "# Split up the genre names by popular delimiters\n",
    "char_list = (\" - \", \" & \", \" / \", \"-\", \"/\", \"&\")\n",
    "result = []\n",
    "for name in names:\n",
    "    for delim in char_list:\n",
    "        if delim in name:\n",
    "            for genre in name.split(delim):\n",
    "                result.append(genre.strip())\n",
    "            break\n",
    "        elif (delim == char_list[-1]):\n",
    "            result.append(name)"
   ]
  },
  {
   "cell_type": "code",
   "execution_count": 24,
   "metadata": {},
   "outputs": [
    {
     "data": {
      "text/plain": [
       "<BarContainer object of 27 artists>"
      ]
     },
     "execution_count": 24,
     "metadata": {},
     "output_type": "execute_result"
    },
    {
     "data": {
      "image/png": "[encoded data removed]",
      "text/plain": [
       "<Figure size 1800x720 with 1 Axes>"
      ]
     },
     "metadata": {
      "needs_background": "light"
     },
     "output_type": "display_data"
    }
   ],
   "source": [
    "# Get the counts of each genre and convert the counts to a dictionary\n",
    "def list_to_dict(input_list):\n",
    "    \n",
    "    result = {}\n",
    "    for x in input_list:\n",
    "        if x in result:\n",
    "            result[x] += 1\n",
    "        else:\n",
    "            result[x] = 1\n",
    "            \n",
    "    return result\n",
    "\n",
    "# Filter out the genres that don't show up in the top k categories\n",
    "def top_k_categories(input_dict, k):\n",
    "    \n",
    "    return {word: freq for word, freq in input_dict.items() if freq in sorted(set(input_dict.values()))[-k:]}\n",
    "    \n",
    "categories = top_k_categories(list_to_dict(result), 20)\n",
    "\n",
    "keys = sorted(categories.keys())\n",
    "vals = [categories[x] for x in categories]\n",
    "\n",
    "genres = []\n",
    "hits = []\n",
    "\n",
    "# Sort all of the genres by the amount of hits they received.\n",
    "for key, val in sorted(zip(keys, vals), key=lambda x: x[1]):\n",
    "    genres.append(key)\n",
    "    hits.append(val)\n",
    "\n",
    "# Plot the genres versus hits\n",
    "plt.figure(figsize=(25,10))\n",
    "plt.title(\"Counts of the top 20 genres in the dataset\")\n",
    "plt.ylabel(\"Count\")\n",
    "plt.xlabel(\"Genre\")\n",
    "plt.bar(genres, hits)"
   ]
  },
  {
   "cell_type": "markdown",
   "metadata": {},
   "source": [
    "In order to make our recommendations more robust, we would like to eliminate the outlier genres. We can define the outlier genres to be those that we can cut off while maintaining at least 80% of our genre data. Knowing that 80% of the total data falls within at least one of these genres, the accuracy of this model has a higher probability of being better, since it aims to predict based on a smaller amount of dimensions, but ones that we have more data about. If we were given more volume of data to work with that had a lot of genre hits for smaller categories, then our model could perform better, and could be incorporated in the future."
   ]
  },
  {
   "cell_type": "code",
   "execution_count": 25,
   "metadata": {},
   "outputs": [],
   "source": [
    "# Keep all of the genres that keep the percentage under the threshold.\n",
    "total = sum(hits)\n",
    "perc = 0\n",
    "GENRE_HIT_THRESHOLD = 0.80\n",
    "genres_post_filtering = []\n",
    "\n",
    "# Reverse the genres and hits\n",
    "for genre, hit in zip(list(reversed(genres)), list(reversed(hits))):\n",
    "    if (perc < GENRE_HIT_THRESHOLD):\n",
    "        perc += hit / total\n",
    "        genres_post_filtering.append(genre)\n",
    "    else:\n",
    "        break"
   ]
  },
  {
   "cell_type": "markdown",
   "metadata": {},
   "source": [
    "In order to actually get decent recommendations, let's only use the movies with ratings > 0.5 across the board."
   ]
  },
  {
   "cell_type": "code",
   "execution_count": 26,
   "metadata": {},
   "outputs": [
    {
     "data": {
      "text/plain": [
       "2015"
      ]
     },
     "execution_count": 26,
     "metadata": {},
     "output_type": "execute_result"
    }
   ],
   "source": [
    "learning_dataset = query(\"\"\"\n",
    "                        SELECT movie.movie_id, group_concat(genre.name), imdb_rating, metacritic_rating, rotten_tomato_rating \n",
    "                        FROM movie\n",
    "                        JOIN movie_has_genre ON (movie.movie_id = movie_has_genre.movie_id)\n",
    "                        JOIN genre ON (genre.genre_id = movie_has_genre.genre_id)\n",
    "                        WHERE year >= 2000\n",
    "                        AND imdb_rating > 0.5\n",
    "                        AND metacritic_rating > 0.5\n",
    "                        AND rotten_tomato_rating > 0.5\n",
    "                        GROUP BY movie.movie_id, imdb_rating, metacritic_rating, rotten_tomato_rating\n",
    "                        \"\"\")\n",
    "len(learning_dataset)"
   ]
  },
  {
   "cell_type": "markdown",
   "metadata": {},
   "source": [
    "Now let's expand out the dataset to create the dummy codes for the categorical genre data."
   ]
  },
  {
   "cell_type": "code",
   "execution_count": 27,
   "metadata": {},
   "outputs": [],
   "source": [
    "col_list = [\"movie_id\"] + genres_post_filtering + [\"imdb_rating\", \"metacritic_rating\", \"rotten_tomato_rating\"]\n",
    "df = pd.DataFrame(None, columns=col_list)"
   ]
  },
  {
   "cell_type": "code",
   "execution_count": 28,
   "metadata": {},
   "outputs": [
    {
     "data": {
      "text/html": [
       "<div>\n",
       "<style scoped>\n",
       "    .dataframe tbody tr th:only-of-type {\n",
       "        vertical-align: middle;\n",
       "    }\n",
       "\n",
       "    .dataframe tbody tr th {\n",
       "        vertical-align: top;\n",
       "    }\n",
       "\n",
       "    .dataframe thead th {\n",
       "        text-align: right;\n",
       "    }\n",
       "</style>\n",
       "<table border=\"1\" class=\"dataframe\">\n",
       "  <thead>\n",
       "    <tr style=\"text-align: right;\">\n",
       "      <th></th>\n",
       "      <th>movie_id</th>\n",
       "      <th>Fantasy</th>\n",
       "      <th>Action</th>\n",
       "      <th>Adult</th>\n",
       "      <th>Adventure</th>\n",
       "      <th>Animation</th>\n",
       "      <th>Family</th>\n",
       "      <th>Historical</th>\n",
       "      <th>Children</th>\n",
       "      <th>Musical</th>\n",
       "      <th>Horror</th>\n",
       "      <th>Comedy</th>\n",
       "      <th>Costume</th>\n",
       "      <th>imdb_rating</th>\n",
       "      <th>metacritic_rating</th>\n",
       "      <th>rotten_tomato_rating</th>\n",
       "    </tr>\n",
       "  </thead>\n",
       "  <tbody>\n",
       "  </tbody>\n",
       "</table>\n",
       "</div>"
      ],
      "text/plain": [
       "Empty DataFrame\n",
       "Columns: [movie_id, Fantasy, Action, Adult, Adventure, Animation, Family, Historical, Children, Musical, Horror, Comedy, Costume, imdb_rating, metacritic_rating, rotten_tomato_rating]\n",
       "Index: []"
      ]
     },
     "execution_count": 28,
     "metadata": {},
     "output_type": "execute_result"
    }
   ],
   "source": [
    "df"
   ]
  },
  {
   "cell_type": "code",
   "execution_count": 29,
   "metadata": {},
   "outputs": [],
   "source": [
    "df_list = [df]\n",
    "\n",
    "for row in learning_dataset:\n",
    "    \n",
    "    expanded_list = []\n",
    "    \n",
    "    for idx, elem in enumerate(row):\n",
    "        \n",
    "        if idx != 1:\n",
    "            expanded_list.append(elem)\n",
    "        else:\n",
    "            for genre in genres_post_filtering:\n",
    "                expanded_list.append(int(genre.lower() in elem.lower()))\n",
    "    \n",
    "    df_list.append(pd.DataFrame({key: [val] for key, val in zip(col_list, expanded_list)}))\n",
    "    \n",
    "df = pd.concat(df_list, ignore_index=True)"
   ]
  },
  {
   "cell_type": "code",
   "execution_count": 30,
   "metadata": {},
   "outputs": [
    {
     "data": {
      "text/html": [
       "<div>\n",
       "<style scoped>\n",
       "    .dataframe tbody tr th:only-of-type {\n",
       "        vertical-align: middle;\n",
       "    }\n",
       "\n",
       "    .dataframe tbody tr th {\n",
       "        vertical-align: top;\n",
       "    }\n",
       "\n",
       "    .dataframe thead th {\n",
       "        text-align: right;\n",
       "    }\n",
       "</style>\n",
       "<table border=\"1\" class=\"dataframe\">\n",
       "  <thead>\n",
       "    <tr style=\"text-align: right;\">\n",
       "      <th></th>\n",
       "      <th>movie_id</th>\n",
       "      <th>Fantasy</th>\n",
       "      <th>Action</th>\n",
       "      <th>Adult</th>\n",
       "      <th>Adventure</th>\n",
       "      <th>Animation</th>\n",
       "      <th>Family</th>\n",
       "      <th>Historical</th>\n",
       "      <th>Children</th>\n",
       "      <th>Musical</th>\n",
       "      <th>Horror</th>\n",
       "      <th>Comedy</th>\n",
       "      <th>Costume</th>\n",
       "      <th>imdb_rating</th>\n",
       "      <th>metacritic_rating</th>\n",
       "      <th>rotten_tomato_rating</th>\n",
       "    </tr>\n",
       "  </thead>\n",
       "  <tbody>\n",
       "    <tr>\n",
       "      <th>0</th>\n",
       "      <td>12882</td>\n",
       "      <td>0</td>\n",
       "      <td>0</td>\n",
       "      <td>0</td>\n",
       "      <td>0</td>\n",
       "      <td>0</td>\n",
       "      <td>0</td>\n",
       "      <td>0</td>\n",
       "      <td>0</td>\n",
       "      <td>0</td>\n",
       "      <td>0</td>\n",
       "      <td>1</td>\n",
       "      <td>0</td>\n",
       "      <td>0.79</td>\n",
       "      <td>0.90</td>\n",
       "      <td>0.89</td>\n",
       "    </tr>\n",
       "    <tr>\n",
       "      <th>1</th>\n",
       "      <td>12883</td>\n",
       "      <td>0</td>\n",
       "      <td>0</td>\n",
       "      <td>0</td>\n",
       "      <td>0</td>\n",
       "      <td>0</td>\n",
       "      <td>0</td>\n",
       "      <td>0</td>\n",
       "      <td>0</td>\n",
       "      <td>0</td>\n",
       "      <td>0</td>\n",
       "      <td>1</td>\n",
       "      <td>0</td>\n",
       "      <td>0.76</td>\n",
       "      <td>0.64</td>\n",
       "      <td>0.68</td>\n",
       "    </tr>\n",
       "    <tr>\n",
       "      <th>2</th>\n",
       "      <td>12884</td>\n",
       "      <td>0</td>\n",
       "      <td>0</td>\n",
       "      <td>0</td>\n",
       "      <td>0</td>\n",
       "      <td>0</td>\n",
       "      <td>0</td>\n",
       "      <td>0</td>\n",
       "      <td>0</td>\n",
       "      <td>0</td>\n",
       "      <td>0</td>\n",
       "      <td>0</td>\n",
       "      <td>0</td>\n",
       "      <td>0.66</td>\n",
       "      <td>0.65</td>\n",
       "      <td>0.82</td>\n",
       "    </tr>\n",
       "    <tr>\n",
       "      <th>3</th>\n",
       "      <td>12895</td>\n",
       "      <td>0</td>\n",
       "      <td>0</td>\n",
       "      <td>0</td>\n",
       "      <td>0</td>\n",
       "      <td>0</td>\n",
       "      <td>0</td>\n",
       "      <td>0</td>\n",
       "      <td>0</td>\n",
       "      <td>0</td>\n",
       "      <td>0</td>\n",
       "      <td>0</td>\n",
       "      <td>0</td>\n",
       "      <td>0.73</td>\n",
       "      <td>0.85</td>\n",
       "      <td>0.73</td>\n",
       "    </tr>\n",
       "    <tr>\n",
       "      <th>4</th>\n",
       "      <td>12896</td>\n",
       "      <td>0</td>\n",
       "      <td>0</td>\n",
       "      <td>0</td>\n",
       "      <td>0</td>\n",
       "      <td>0</td>\n",
       "      <td>0</td>\n",
       "      <td>0</td>\n",
       "      <td>0</td>\n",
       "      <td>0</td>\n",
       "      <td>0</td>\n",
       "      <td>0</td>\n",
       "      <td>0</td>\n",
       "      <td>0.75</td>\n",
       "      <td>0.78</td>\n",
       "      <td>0.94</td>\n",
       "    </tr>\n",
       "  </tbody>\n",
       "</table>\n",
       "</div>"
      ],
      "text/plain": [
       "  movie_id Fantasy Action Adult Adventure Animation Family Historical  \\\n",
       "0    12882       0      0     0         0         0      0          0   \n",
       "1    12883       0      0     0         0         0      0          0   \n",
       "2    12884       0      0     0         0         0      0          0   \n",
       "3    12895       0      0     0         0         0      0          0   \n",
       "4    12896       0      0     0         0         0      0          0   \n",
       "\n",
       "  Children Musical Horror Comedy Costume  imdb_rating  metacritic_rating  \\\n",
       "0        0       0      0      1       0         0.79               0.90   \n",
       "1        0       0      0      1       0         0.76               0.64   \n",
       "2        0       0      0      0       0         0.66               0.65   \n",
       "3        0       0      0      0       0         0.73               0.85   \n",
       "4        0       0      0      0       0         0.75               0.78   \n",
       "\n",
       "   rotten_tomato_rating  \n",
       "0                  0.89  \n",
       "1                  0.68  \n",
       "2                  0.82  \n",
       "3                  0.73  \n",
       "4                  0.94  "
      ]
     },
     "execution_count": 30,
     "metadata": {},
     "output_type": "execute_result"
    }
   ],
   "source": [
    "df.head()"
   ]
  },
  {
   "cell_type": "markdown",
   "metadata": {},
   "source": [
    "Since this is purely unlabeled data, we can employ a semi-supervised approach to finding out which movies are \"closest\" to each other, and recommend based on the clusters that were found."
   ]
  },
  {
   "cell_type": "code",
   "execution_count": 31,
   "metadata": {},
   "outputs": [
    {
     "name": "stderr",
     "output_type": "stream",
     "text": [
      "/anaconda3/lib/python3.7/site-packages/ipykernel_launcher.py:1: FutureWarning: Method .as_matrix will be removed in a future version. Use .values instead.\n",
      "  \"\"\"Entry point for launching an IPython kernel.\n"
     ]
    }
   ],
   "source": [
    "X = df.as_matrix(genres_post_filtering + [\"imdb_rating\", \"metacritic_rating\", \"rotten_tomato_rating\"])"
   ]
  },
  {
   "cell_type": "code",
   "execution_count": 32,
   "metadata": {},
   "outputs": [
    {
     "name": "stdout",
     "output_type": "stream",
     "text": [
      "60\n"
     ]
    }
   ],
   "source": [
    "from sklearn.cluster import MeanShift\n",
    "\n",
    "ms = MeanShift()\n",
    "ms.fit(X)\n",
    "\n",
    "# After fitting the data, we can see how many clusters we obtained after fitting the model.\n",
    "labels = ms.labels_\n",
    "num_clusters = len(np.unique(labels))\n",
    "print(num_clusters)"
   ]
  },
  {
   "cell_type": "markdown",
   "metadata": {},
   "source": [
    "This vector is close to the other vectors in cluster 1, so that's what this should predict."
   ]
  },
  {
   "cell_type": "code",
   "execution_count": 33,
   "metadata": {},
   "outputs": [
    {
     "data": {
      "text/plain": [
       "1"
      ]
     },
     "execution_count": 33,
     "metadata": {},
     "output_type": "execute_result"
    }
   ],
   "source": [
    "ms.predict([[0, 0, 0, 0, 0, 0, 0, 0, 0, 0, 1, 0, 0.79, 0.90, 0.89]])[0]"
   ]
  },
  {
   "cell_type": "markdown",
   "metadata": {},
   "source": [
    "According to to the clustering algorithm, there were about 60 clusters that most accurately characterized the dataset."
   ]
  },
  {
   "cell_type": "code",
   "execution_count": 34,
   "metadata": {
    "scrolled": false
   },
   "outputs": [
    {
     "name": "stdout",
     "output_type": "stream",
     "text": [
      "60\n"
     ]
    }
   ],
   "source": [
    "print(num_clusters)"
   ]
  },
  {
   "cell_type": "markdown",
   "metadata": {},
   "source": [
    "## Evaluating the Model\n",
    "\n",
    "Since this is unlabeled data, we don't have ground truth to evaluate a concrete metric. However, we can use cosine similarity to evaluate whether or not a vector's average deviation from the entire dataset is smaller than that of it's cluster. While this isn't a perfect way to evaluate model performance, this naive approach proves that it's associating movies together non-arbitrarily."
   ]
  },
  {
   "cell_type": "code",
   "execution_count": 35,
   "metadata": {},
   "outputs": [],
   "source": [
    "df[\"pred_labels\"] = labels"
   ]
  },
  {
   "cell_type": "code",
   "execution_count": 36,
   "metadata": {},
   "outputs": [
    {
     "data": {
      "text/html": [
       "<div>\n",
       "<style scoped>\n",
       "    .dataframe tbody tr th:only-of-type {\n",
       "        vertical-align: middle;\n",
       "    }\n",
       "\n",
       "    .dataframe tbody tr th {\n",
       "        vertical-align: top;\n",
       "    }\n",
       "\n",
       "    .dataframe thead th {\n",
       "        text-align: right;\n",
       "    }\n",
       "</style>\n",
       "<table border=\"1\" class=\"dataframe\">\n",
       "  <thead>\n",
       "    <tr style=\"text-align: right;\">\n",
       "      <th></th>\n",
       "      <th>movie_id</th>\n",
       "      <th>Fantasy</th>\n",
       "      <th>Action</th>\n",
       "      <th>Adult</th>\n",
       "      <th>Adventure</th>\n",
       "      <th>Animation</th>\n",
       "      <th>Family</th>\n",
       "      <th>Historical</th>\n",
       "      <th>Children</th>\n",
       "      <th>Musical</th>\n",
       "      <th>Horror</th>\n",
       "      <th>Comedy</th>\n",
       "      <th>Costume</th>\n",
       "      <th>imdb_rating</th>\n",
       "      <th>metacritic_rating</th>\n",
       "      <th>rotten_tomato_rating</th>\n",
       "      <th>pred_labels</th>\n",
       "    </tr>\n",
       "  </thead>\n",
       "  <tbody>\n",
       "    <tr>\n",
       "      <th>0</th>\n",
       "      <td>12882</td>\n",
       "      <td>0</td>\n",
       "      <td>0</td>\n",
       "      <td>0</td>\n",
       "      <td>0</td>\n",
       "      <td>0</td>\n",
       "      <td>0</td>\n",
       "      <td>0</td>\n",
       "      <td>0</td>\n",
       "      <td>0</td>\n",
       "      <td>0</td>\n",
       "      <td>1</td>\n",
       "      <td>0</td>\n",
       "      <td>0.79</td>\n",
       "      <td>0.90</td>\n",
       "      <td>0.89</td>\n",
       "      <td>1</td>\n",
       "    </tr>\n",
       "    <tr>\n",
       "      <th>1</th>\n",
       "      <td>12883</td>\n",
       "      <td>0</td>\n",
       "      <td>0</td>\n",
       "      <td>0</td>\n",
       "      <td>0</td>\n",
       "      <td>0</td>\n",
       "      <td>0</td>\n",
       "      <td>0</td>\n",
       "      <td>0</td>\n",
       "      <td>0</td>\n",
       "      <td>0</td>\n",
       "      <td>1</td>\n",
       "      <td>0</td>\n",
       "      <td>0.76</td>\n",
       "      <td>0.64</td>\n",
       "      <td>0.68</td>\n",
       "      <td>1</td>\n",
       "    </tr>\n",
       "    <tr>\n",
       "      <th>2</th>\n",
       "      <td>12884</td>\n",
       "      <td>0</td>\n",
       "      <td>0</td>\n",
       "      <td>0</td>\n",
       "      <td>0</td>\n",
       "      <td>0</td>\n",
       "      <td>0</td>\n",
       "      <td>0</td>\n",
       "      <td>0</td>\n",
       "      <td>0</td>\n",
       "      <td>0</td>\n",
       "      <td>0</td>\n",
       "      <td>0</td>\n",
       "      <td>0.66</td>\n",
       "      <td>0.65</td>\n",
       "      <td>0.82</td>\n",
       "      <td>0</td>\n",
       "    </tr>\n",
       "    <tr>\n",
       "      <th>3</th>\n",
       "      <td>12895</td>\n",
       "      <td>0</td>\n",
       "      <td>0</td>\n",
       "      <td>0</td>\n",
       "      <td>0</td>\n",
       "      <td>0</td>\n",
       "      <td>0</td>\n",
       "      <td>0</td>\n",
       "      <td>0</td>\n",
       "      <td>0</td>\n",
       "      <td>0</td>\n",
       "      <td>0</td>\n",
       "      <td>0</td>\n",
       "      <td>0.73</td>\n",
       "      <td>0.85</td>\n",
       "      <td>0.73</td>\n",
       "      <td>0</td>\n",
       "    </tr>\n",
       "    <tr>\n",
       "      <th>4</th>\n",
       "      <td>12896</td>\n",
       "      <td>0</td>\n",
       "      <td>0</td>\n",
       "      <td>0</td>\n",
       "      <td>0</td>\n",
       "      <td>0</td>\n",
       "      <td>0</td>\n",
       "      <td>0</td>\n",
       "      <td>0</td>\n",
       "      <td>0</td>\n",
       "      <td>0</td>\n",
       "      <td>0</td>\n",
       "      <td>0</td>\n",
       "      <td>0.75</td>\n",
       "      <td>0.78</td>\n",
       "      <td>0.94</td>\n",
       "      <td>0</td>\n",
       "    </tr>\n",
       "  </tbody>\n",
       "</table>\n",
       "</div>"
      ],
      "text/plain": [
       "  movie_id Fantasy Action Adult Adventure Animation Family Historical  \\\n",
       "0    12882       0      0     0         0         0      0          0   \n",
       "1    12883       0      0     0         0         0      0          0   \n",
       "2    12884       0      0     0         0         0      0          0   \n",
       "3    12895       0      0     0         0         0      0          0   \n",
       "4    12896       0      0     0         0         0      0          0   \n",
       "\n",
       "  Children Musical Horror Comedy Costume  imdb_rating  metacritic_rating  \\\n",
       "0        0       0      0      1       0         0.79               0.90   \n",
       "1        0       0      0      1       0         0.76               0.64   \n",
       "2        0       0      0      0       0         0.66               0.65   \n",
       "3        0       0      0      0       0         0.73               0.85   \n",
       "4        0       0      0      0       0         0.75               0.78   \n",
       "\n",
       "   rotten_tomato_rating  pred_labels  \n",
       "0                  0.89            1  \n",
       "1                  0.68            1  \n",
       "2                  0.82            0  \n",
       "3                  0.73            0  \n",
       "4                  0.94            0  "
      ]
     },
     "execution_count": 36,
     "metadata": {},
     "output_type": "execute_result"
    }
   ],
   "source": [
    "df.head()"
   ]
  },
  {
   "cell_type": "code",
   "execution_count": 37,
   "metadata": {},
   "outputs": [],
   "source": [
    "def similarity(vector1, vector2):\n",
    "    return 1 - spatial.distance.cosine(vector1, vector2)"
   ]
  },
  {
   "cell_type": "markdown",
   "metadata": {},
   "source": [
    "# Prediction\n",
    "\n",
    "Given a vector representing a movie, we want to recommend some other movies to the user. We can do this via a k-means clustering algorithm, and then doing a k-nearest neighbors lookup in that cluster.\n",
    "\n",
    "1. First, isolate the cluster that this vector belongs to.\n",
    "2. Filter out all of the other vectors that don't belong to that cluster.\n",
    "3. Find the cosine similarity between all of those vectors and the given vector.\n",
    "4. Sort the movie ids and similarities in descending order, and then just pick off the num_preds first tuples.\n",
    "5. Lookup the movie_id in order to return the title and release year."
   ]
  },
  {
   "cell_type": "code",
   "execution_count": 38,
   "metadata": {},
   "outputs": [],
   "source": [
    "def predict(vector, num_preds):\n",
    "    \n",
    "    sim_and_id = []\n",
    "    \n",
    "    # Get the rows that are associated with this vector's predicted label\n",
    "    temp_df = df[df[\"pred_labels\"] == ms.predict([vector])[0]]\n",
    "    \n",
    "    # Get rid of the features not used for prediction\n",
    "    temp_df = temp_df[[x for x in temp_df.columns.tolist() if x != \"pred_labels\"]]\n",
    "    \n",
    "    for index, row in temp_df.iterrows():\n",
    "        \n",
    "        movie_vector = [row[x] for x in temp_df.columns.tolist() if x != \"movie_id\"]\n",
    "        \n",
    "        sim_and_id.append((row[\"movie_id\"], similarity(vector, movie_vector)))\n",
    "        \n",
    "    # Unpack the tuples \n",
    "    top_num_preds_movie_ids = tuple([res[0] for res in sorted(sim_and_id, key=lambda x: x[-1], reverse=True)[:num_preds]])\n",
    "    \n",
    "    if len(top_num_preds_movie_ids) > 0:\n",
    "        return query(\"SELECT title, year FROM movie WHERE movie_id IN {}\".format(str(top_num_preds_movie_ids)))\n",
    "    else:\n",
    "        return query(\"SELECT title, year FROM movie WHERE movie_id = {}\".format(str(top_num_preds_movie_ids)))"
   ]
  },
  {
   "cell_type": "markdown",
   "metadata": {},
   "source": [
    "Just as a sanity check, I make sure that a vector that I pass into the recommendation system automatically recommends itself (as it should)."
   ]
  },
  {
   "cell_type": "code",
   "execution_count": 39,
   "metadata": {},
   "outputs": [
    {
     "name": "stdout",
     "output_type": "stream",
     "text": [
      "[[\"The King'S Speech\", 2010], ['House Of Flying Daggers', 2004], ['City Of Life And Death', 2009], ['The Sun', 2005]]\n"
     ]
    }
   ],
   "source": [
    "print(predict([0, 0, 0, 0, 0, 0, 1, 0, 0, 0, 1, 0, 0.89, 0.90, 0.89], num_preds=4))"
   ]
  },
  {
   "cell_type": "code",
   "execution_count": 40,
   "metadata": {},
   "outputs": [
    {
     "name": "stdout",
     "output_type": "stream",
     "text": [
      "0.7812791337049192\n"
     ]
    }
   ],
   "source": [
    "temp_df = df[[x for x in df.columns.tolist() if x not in (\"movie_id\", \"pred_labels\")]].sample(frac=0.5, replace=False)\n",
    "copy = temp_df.copy()\n",
    "\n",
    "all_dists = []\n",
    "\n",
    "# Go through all of the vectors in the dataframe and compare them with every other vector in the dataframe\n",
    "for indx_one, row_one in temp_df.iterrows():\n",
    "    \n",
    "    for indx_two, row_two in copy.iterrows():\n",
    "        \n",
    "        if indx_one < indx_two:\n",
    "            \n",
    "            sim = similarity([row_one[x] for x in temp_df.columns.tolist()],\n",
    "                             [row_two[x] for x in temp_df.columns.tolist()])\n",
    "            \n",
    "            all_dists.append(sim)\n",
    "            \n",
    "# Find the mean cosine similarity between all vectors within the dataframe.\n",
    "print(statistics.mean(all_dists))"
   ]
  },
  {
   "cell_type": "code",
   "execution_count": 41,
   "metadata": {},
   "outputs": [
    {
     "name": "stdout",
     "output_type": "stream",
     "text": [
      "0.9937321869787549\n"
     ]
    }
   ],
   "source": [
    "cluster_means = []\n",
    "\n",
    "# For each of the clusters that we have from our model,\n",
    "for cluster_num in range(1, num_clusters + 1):\n",
    "    \n",
    "    # Isolate the vectors associated with that cluster.\n",
    "    temp_df = df[df[\"pred_labels\"] == cluster_num]\n",
    "    \n",
    "    # Strip away the features that will not be used in the similarity calculation.\n",
    "    temp_df = temp_df[[x for x in temp_df.columns.tolist() if x not in (\"movie_id\", \"pred_labels\")]]\n",
    "\n",
    "    copy = temp_df.copy()\n",
    "\n",
    "    all_dists = []\n",
    "    \n",
    "    # Find the cosine similarity between all pairs of vectors in the cluster.\n",
    "    for indx_one, row_one in temp_df.iterrows():\n",
    "        \n",
    "        for indx_two, row_two in copy.iterrows():\n",
    "            \n",
    "            sim = similarity([row_one[x] for x in temp_df.columns.tolist()],\n",
    "                             [row_two[x] for x in temp_df.columns.tolist()])\n",
    "            \n",
    "            all_dists.append(sim)\n",
    "        \n",
    "        cluster_means.append(statistics.mean(all_dists))\n",
    "        \n",
    "# Report the mean of all means among all clusters.\n",
    "print(statistics.mean(cluster_means))"
   ]
  },
  {
   "cell_type": "markdown",
   "metadata": {},
   "source": [
    "As seen here, the average similarity between vectors in each cluster among all clusters is 99.4%, whereas the overall similarity between all vectors in our dataset is about 78.1%, which is significantly lesser, and with around 2,000 rows here, the difference is even more pronounced. This proves that there exist tightly clustered data, and that it can be used to recommend movies."
   ]
  }
 ],
 "metadata": {
  "kernelspec": {
   "display_name": "Python 3",
   "language": "python",
   "name": "python3"
  },
  "language_info": {
   "codemirror_mode": {
    "name": "ipython",
    "version": 3
   },
   "file_extension": ".py",
   "mimetype": "text/x-python",
   "name": "python",
   "nbconvert_exporter": "python",
   "pygments_lexer": "ipython3",
   "version": "3.7.0"
  }
 },
 "nbformat": 4,
 "nbformat_minor": 2
}
